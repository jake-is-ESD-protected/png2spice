{
 "cells": [
  {
   "cell_type": "code",
   "execution_count": 1,
   "metadata": {},
   "outputs": [],
   "source": [
    "import schematicLT\n",
    "import cv2 \n",
    "import matplotlib.pyplot as plt\n",
    "  \n",
    "img = cv2.imread(\"tests/images/schematic.png\")  # Read image \n",
    "  \n",
    "# Setting parameter values \n",
    "t_lower = 50  # Lower Threshold \n",
    "t_upper = 150  # Upper threshold \n",
    "  \n",
    "# Applying the Canny Edge filter \n",
    "edge = cv2.Canny(img, t_lower, t_upper) \n",
    "\n",
    "cv2.imshow('original', img) \n",
    "cv2.imshow('edge', edge) \n",
    "cv2.waitKey(0) \n",
    "cv2.destroyAllWindows() \n"
   ]
  }
 ],
 "metadata": {
  "kernelspec": {
   "display_name": ".env",
   "language": "python",
   "name": "python3"
  },
  "language_info": {
   "codemirror_mode": {
    "name": "ipython",
    "version": 3
   },
   "file_extension": ".py",
   "mimetype": "text/x-python",
   "name": "python",
   "nbconvert_exporter": "python",
   "pygments_lexer": "ipython3",
   "version": "3.8.10"
  }
 },
 "nbformat": 4,
 "nbformat_minor": 2
}
